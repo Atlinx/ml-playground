{
 "cells": [
  {
   "cell_type": "markdown",
   "id": "b0a6ab08",
   "metadata": {},
   "source": [
    "# Intro to TorchRL\n",
    "https://pytorch.org/rl/main/tutorials/getting-started-0.html"
   ]
  },
  {
   "cell_type": "code",
   "execution_count": 2,
   "id": "0b326948",
   "metadata": {},
   "outputs": [
    {
     "ename": "ImportError",
     "evalue": "RuntimeError: TorchRL does not support gymnasium 1.0 or later versions due to incompatible\nchanges in the Gym API.\nUsing gymnasium 1.0 with TorchRL would require significant modifications to your code and may result in:\n* Inaccurate step counting, as the auto-reset feature can cause unpredictable numbers of steps to be executed.\n* Potential data corruption, as the environment may require/produce garbage data during reset steps.\n* Trajectory overlap during data collection.\n* Increased computational overhead, as the library would need to handle the additional complexity of auto-resets.\n* Manual filtering and boilerplate code to mitigate these issues, which would compromise the modularity and ease of\nuse of TorchRL.\nTo maintain the integrity and efficiency of our library, we cannot support this version of gymnasium at this time.\nIf you need to use gymnasium 1.0 or later, we recommend exploring alternative solutions or waiting for future updates\nto TorchRL and gymnasium that may address this compatibility issue.\nFor more information, please refer to discussion https://github.com/pytorch/rl/discussions/2483 in torchrl.\n",
     "output_type": "error",
     "traceback": [
      "\u001b[31m---------------------------------------------------------------------------\u001b[39m",
      "\u001b[31mImportError\u001b[39m                               Traceback (most recent call last)",
      "\u001b[36mCell\u001b[39m\u001b[36m \u001b[39m\u001b[32mIn[2]\u001b[39m\u001b[32m, line 3\u001b[39m\n\u001b[32m      1\u001b[39m \u001b[38;5;28;01mfrom\u001b[39;00m\u001b[38;5;250m \u001b[39m\u001b[34;01mtorchrl\u001b[39;00m\u001b[34;01m.\u001b[39;00m\u001b[34;01menvs\u001b[39;00m\u001b[38;5;250m \u001b[39m\u001b[38;5;28;01mimport\u001b[39;00m GymEnv\n\u001b[32m----> \u001b[39m\u001b[32m3\u001b[39m env = \u001b[43mGymEnv\u001b[49m\u001b[43m(\u001b[49m\u001b[33;43m\"\u001b[39;49m\u001b[33;43mPendulum-v1\u001b[39;49m\u001b[33;43m\"\u001b[39;49m\u001b[43m)\u001b[49m\n",
      "\u001b[36mFile \u001b[39m\u001b[32mc:\\Users\\Alan\\.pyenv\\pyenv-win\\versions\\3.13.2\\Lib\\site-packages\\torchrl\\envs\\libs\\gym.py:779\u001b[39m, in \u001b[36m_GymAsyncMeta.__call__\u001b[39m\u001b[34m(cls, *args, **kwargs)\u001b[39m\n\u001b[32m    778\u001b[39m \u001b[38;5;28;01mdef\u001b[39;00m\u001b[38;5;250m \u001b[39m\u001b[34m__call__\u001b[39m(\u001b[38;5;28mcls\u001b[39m, *args, **kwargs):\n\u001b[32m--> \u001b[39m\u001b[32m779\u001b[39m     instance: GymWrapper = \u001b[38;5;28;43msuper\u001b[39;49m\u001b[43m(\u001b[49m\u001b[43m)\u001b[49m\u001b[43m.\u001b[49m\u001b[34;43m__call__\u001b[39;49m\u001b[43m(\u001b[49m\u001b[43m*\u001b[49m\u001b[43margs\u001b[49m\u001b[43m,\u001b[49m\u001b[43m \u001b[49m\u001b[43m*\u001b[49m\u001b[43m*\u001b[49m\u001b[43mkwargs\u001b[49m\u001b[43m)\u001b[49m\n\u001b[32m    781\u001b[39m     \u001b[38;5;66;03m# before gym 0.22, there was no final_observation\u001b[39;00m\n\u001b[32m    782\u001b[39m     \u001b[38;5;28;01mif\u001b[39;00m instance._is_batched:\n",
      "\u001b[36mFile \u001b[39m\u001b[32mc:\\Users\\Alan\\.pyenv\\pyenv-win\\versions\\3.13.2\\Lib\\site-packages\\torchrl\\envs\\common.py:238\u001b[39m, in \u001b[36m_EnvPostInit.__call__\u001b[39m\u001b[34m(cls, *args, **kwargs)\u001b[39m\n\u001b[32m    236\u001b[39m auto_reset = kwargs.pop(\u001b[33m\"\u001b[39m\u001b[33mauto_reset\u001b[39m\u001b[33m\"\u001b[39m, \u001b[38;5;28;01mFalse\u001b[39;00m)\n\u001b[32m    237\u001b[39m auto_reset_replace = kwargs.pop(\u001b[33m\"\u001b[39m\u001b[33mauto_reset_replace\u001b[39m\u001b[33m\"\u001b[39m, \u001b[38;5;28;01mTrue\u001b[39;00m)\n\u001b[32m--> \u001b[39m\u001b[32m238\u001b[39m instance: EnvBase = \u001b[38;5;28;43msuper\u001b[39;49m\u001b[43m(\u001b[49m\u001b[43m)\u001b[49m\u001b[43m.\u001b[49m\u001b[34;43m__call__\u001b[39;49m\u001b[43m(\u001b[49m\u001b[43m*\u001b[49m\u001b[43margs\u001b[49m\u001b[43m,\u001b[49m\u001b[43m \u001b[49m\u001b[43m*\u001b[49m\u001b[43m*\u001b[49m\u001b[43mkwargs\u001b[49m\u001b[43m)\u001b[49m\n\u001b[32m    239\u001b[39m \u001b[38;5;28;01mif\u001b[39;00m \u001b[33m\"\u001b[39m\u001b[33m_cache\u001b[39m\u001b[33m\"\u001b[39m \u001b[38;5;129;01mnot\u001b[39;00m \u001b[38;5;129;01min\u001b[39;00m instance.\u001b[34m__dict__\u001b[39m:\n\u001b[32m    240\u001b[39m     instance._cache = {}\n",
      "\u001b[36mFile \u001b[39m\u001b[32mc:\\Users\\Alan\\.pyenv\\pyenv-win\\versions\\3.13.2\\Lib\\site-packages\\torchrl\\envs\\libs\\gym.py:1611\u001b[39m, in \u001b[36mGymEnv.__init__\u001b[39m\u001b[34m(self, env_name, **kwargs)\u001b[39m\n\u001b[32m   1609\u001b[39m \u001b[38;5;28;01mdef\u001b[39;00m\u001b[38;5;250m \u001b[39m\u001b[34m__init__\u001b[39m(\u001b[38;5;28mself\u001b[39m, env_name, **kwargs):\n\u001b[32m   1610\u001b[39m     kwargs[\u001b[33m\"\u001b[39m\u001b[33menv_name\u001b[39m\u001b[33m\"\u001b[39m] = env_name\n\u001b[32m-> \u001b[39m\u001b[32m1611\u001b[39m     \u001b[38;5;28;43mself\u001b[39;49m\u001b[43m.\u001b[49m\u001b[43m_set_gym_args\u001b[49m\u001b[43m(\u001b[49m\u001b[43mkwargs\u001b[49m\u001b[43m)\u001b[49m\n\u001b[32m   1612\u001b[39m     \u001b[38;5;28msuper\u001b[39m().\u001b[34m__init__\u001b[39m(**kwargs)\n",
      "\u001b[36mFile \u001b[39m\u001b[32mc:\\Users\\Alan\\.pyenv\\pyenv-win\\versions\\3.13.2\\Lib\\site-packages\\torchrl\\_utils.py:459\u001b[39m, in \u001b[36mimplement_for.__call__.<locals>._lazy_call_fn\u001b[39m\u001b[34m(*args, **kwargs)\u001b[39m\n\u001b[32m    454\u001b[39m \u001b[38;5;129m@wraps\u001b[39m(fn)\n\u001b[32m    455\u001b[39m \u001b[38;5;28;01mdef\u001b[39;00m\u001b[38;5;250m \u001b[39m\u001b[34m_lazy_call_fn\u001b[39m(*args, **kwargs):\n\u001b[32m    456\u001b[39m     \u001b[38;5;66;03m# first time we call the function, we also do the replacement.\u001b[39;00m\n\u001b[32m    457\u001b[39m     \u001b[38;5;66;03m# This will cause the imports to occur only during the first call to fn\u001b[39;00m\n\u001b[32m--> \u001b[39m\u001b[32m459\u001b[39m     result = \u001b[38;5;28;43mself\u001b[39;49m\u001b[43m.\u001b[49m\u001b[43m_delazify\u001b[49m\u001b[43m(\u001b[49m\u001b[38;5;28;43mself\u001b[39;49m\u001b[43m.\u001b[49m\u001b[43mfunc_name\u001b[49m\u001b[43m)\u001b[49m\u001b[43m(\u001b[49m\u001b[43m*\u001b[49m\u001b[43margs\u001b[49m\u001b[43m,\u001b[49m\u001b[43m \u001b[49m\u001b[43m*\u001b[49m\u001b[43m*\u001b[49m\u001b[43mkwargs\u001b[49m\u001b[43m)\u001b[49m\n\u001b[32m    460\u001b[39m     \u001b[38;5;28;01mreturn\u001b[39;00m result\n",
      "\u001b[36mFile \u001b[39m\u001b[32mc:\\Users\\Alan\\.pyenv\\pyenv-win\\versions\\3.13.2\\Lib\\site-packages\\torchrl\\envs\\libs\\gym.py:1634\u001b[39m, in \u001b[36mGymEnv._set_gym_args\u001b[39m\u001b[34m(self, kwargs)\u001b[39m\n\u001b[32m   1629\u001b[39m \u001b[38;5;129m@implement_for\u001b[39m(\u001b[33m\"\u001b[39m\u001b[33mgymnasium\u001b[39m\u001b[33m\"\u001b[39m, \u001b[33m\"\u001b[39m\u001b[33m1.0.0\u001b[39m\u001b[33m\"\u001b[39m)\n\u001b[32m   1630\u001b[39m \u001b[38;5;28;01mdef\u001b[39;00m\u001b[38;5;250m \u001b[39m\u001b[34m_set_gym_args\u001b[39m(  \u001b[38;5;66;03m# noqa: F811\u001b[39;00m\n\u001b[32m   1631\u001b[39m     \u001b[38;5;28mself\u001b[39m,\n\u001b[32m   1632\u001b[39m     kwargs,\n\u001b[32m   1633\u001b[39m ) -> \u001b[38;5;28;01mNone\u001b[39;00m:\n\u001b[32m-> \u001b[39m\u001b[32m1634\u001b[39m     \u001b[38;5;28;01mraise\u001b[39;00m \u001b[38;5;167;01mImportError\u001b[39;00m(GYMNASIUM_1_ERROR)\n",
      "\u001b[31mImportError\u001b[39m: RuntimeError: TorchRL does not support gymnasium 1.0 or later versions due to incompatible\nchanges in the Gym API.\nUsing gymnasium 1.0 with TorchRL would require significant modifications to your code and may result in:\n* Inaccurate step counting, as the auto-reset feature can cause unpredictable numbers of steps to be executed.\n* Potential data corruption, as the environment may require/produce garbage data during reset steps.\n* Trajectory overlap during data collection.\n* Increased computational overhead, as the library would need to handle the additional complexity of auto-resets.\n* Manual filtering and boilerplate code to mitigate these issues, which would compromise the modularity and ease of\nuse of TorchRL.\nTo maintain the integrity and efficiency of our library, we cannot support this version of gymnasium at this time.\nIf you need to use gymnasium 1.0 or later, we recommend exploring alternative solutions or waiting for future updates\nto TorchRL and gymnasium that may address this compatibility issue.\nFor more information, please refer to discussion https://github.com/pytorch/rl/discussions/2483 in torchrl.\n"
     ]
    }
   ],
   "source": [
    "from torchrl.envs import GymEnv\n",
    "\n",
    "env = GymEnv(\"Pendulum-v1\")"
   ]
  },
  {
   "cell_type": "code",
   "execution_count": null,
   "id": "0cd238e1",
   "metadata": {},
   "outputs": [],
   "source": []
  }
 ],
 "metadata": {
  "kernelspec": {
   "display_name": "Python 3",
   "language": "python",
   "name": "python3"
  },
  "language_info": {
   "codemirror_mode": {
    "name": "ipython",
    "version": 3
   },
   "file_extension": ".py",
   "mimetype": "text/x-python",
   "name": "python",
   "nbconvert_exporter": "python",
   "pygments_lexer": "ipython3",
   "version": "3.13.2"
  }
 },
 "nbformat": 4,
 "nbformat_minor": 5
}
