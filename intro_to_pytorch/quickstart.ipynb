{
 "cells": [
  {
   "cell_type": "markdown",
   "id": "1af6e22b",
   "metadata": {},
   "source": [
    "# Quickstart\n",
    "\n",
    "General rundown of the API for loading data and training a model.\n",
    "\n",
    "https://pytorch.org/tutorials/beginner/basics/quickstart_tutorial.html"
   ]
  },
  {
   "cell_type": "markdown",
   "id": "3dae28e5",
   "metadata": {},
   "source": [
    "## Working with data"
   ]
  },
  {
   "cell_type": "code",
   "execution_count": 1,
   "id": "727b6d5b",
   "metadata": {},
   "outputs": [
    {
     "data": {
      "text/plain": [
       "Dataset FashionMNIST\n",
       "    Number of datapoints: 60000\n",
       "    Root location: data\n",
       "    Split: Train\n",
       "    StandardTransform\n",
       "Transform: ToTensor()"
      ]
     },
     "metadata": {},
     "output_type": "display_data"
    },
    {
     "data": {
      "text/plain": [
       "Dataset FashionMNIST\n",
       "    Number of datapoints: 10000\n",
       "    Root location: data\n",
       "    Split: Test\n",
       "    StandardTransform\n",
       "Transform: ToTensor()"
      ]
     },
     "metadata": {},
     "output_type": "display_data"
    },
    {
     "name": "stdout",
     "output_type": "stream",
     "text": [
      "test_data first entry: (data, label):\n",
      "    sizes: img: torch.Size([1, 28, 28]) label: 9\n",
      "    types: img: <class 'torch.Tensor'> label: <class 'int'>\n",
      "    img_squeezed: torch.Size([28, 28])\n"
     ]
    },
    {
     "data": {
      "text/plain": [
       "<matplotlib.image.AxesImage at 0x297f6b4f770>"
      ]
     },
     "execution_count": 1,
     "metadata": {},
     "output_type": "execute_result"
    },
    {
     "data": {
      "image/png": "[encoded data removed]",
      "text/plain": [
       "<Figure size 640x480 with 1 Axes>"
      ]
     },
     "metadata": {},
     "output_type": "display_data"
    }
   ],
   "source": [
    "# https://pytorch.org/tutorials/beginner/basics/quickstart_tutorial.html\n",
    "import torch\n",
    "from torch import nn\n",
    "from torch.utils.data import DataLoader\n",
    "from torchvision import datasets\n",
    "from torchvision.transforms import ToTensor\n",
    "import matplotlib.pyplot as plt\n",
    "import PIL\n",
    "\n",
    "DEBUG = False\n",
    "\n",
    "# Download training data\n",
    "# We are using the FashionMNIST dataset: https://github.com/zalandoresearch/fashion-mnist\n",
    "# This is a dataset of 28x28 grayscale images that are each associated with a label from 10 classes\n",
    "training_data = datasets.FashionMNIST(\n",
    "    root=\"data\",\n",
    "    train=True,  # Specify true to get the training data\n",
    "    download=True,\n",
    "    transform=ToTensor(),\n",
    ")\n",
    "\n",
    "# Download test data from open datasets.\n",
    "# The FashionMNIST dataset is a dataset of\n",
    "# labelled images of clothing/shoes.\n",
    "#\n",
    "# Each datapoint is a PIL.Image\n",
    "test_data = datasets.FashionMNIST(\n",
    "    root=\"data\",\n",
    "    train=False,  # Specify false to get the test data\n",
    "    download=True,\n",
    "    transform=ToTensor(), # Converts the PIL.Image datapoints into Tensors.\n",
    ")\n",
    "\n",
    "display(training_data)\n",
    "display(test_data)\n",
    "\n",
    "print(f\"test_data first entry: (data, label):\")\n",
    "data: tuple[torch.Tensor, torch.Tensor] = test_data[0]\n",
    "img, label = data\n",
    "# Each image is in the format (C, H, W)\n",
    "# C = number of channels. It's 1 for all FashionMNIST datapoints, since they are all grayscale images\n",
    "# H = height of each image\n",
    "# W = width of each image\n",
    "print(f\"    sizes: img: {img.shape} label: {label}\")\n",
    "print(f\"    types: img: {type(img)} label: {type(label)}\")\n",
    "img_squeezed = img.squeeze()\n",
    "# We use squeeze to remove the from channel dimension, since we\n",
    "# need to feed a 2D matrix into plt's imshow \n",
    "print(f\"    img_squeezed: {img_squeezed.shape}\")\n",
    "plt.imshow(img_squeezed, cmap=\"Blues\")"
   ]
  },
  {
   "cell_type": "code",
   "execution_count": 2,
   "id": "d91ecc99",
   "metadata": {},
   "outputs": [
    {
     "name": "stdout",
     "output_type": "stream",
     "text": [
      "Shape of X [N, C, H, W]: torch.Size([64, 1, 28, 28])\n",
      "Shape of y: torch.Size([64]) torch.int64\n"
     ]
    }
   ],
   "source": [
    "batch_size = 64\n",
    "\n",
    "# Create data loaders.\n",
    "train_dataloader = DataLoader(training_data, batch_size=batch_size)\n",
    "test_dataloader = DataLoader(test_data, batch_size=batch_size)\n",
    "\n",
    "# We cannot fetch an index of a dataloader, since it's an iterator\n",
    "# Therefore we have to iterate over it instead to access each element\n",
    "for X, y in test_dataloader:\n",
    "    # Since each image was (C, H< W), batching it adds another dimension N\n",
    "    # to the start, which represents the number of examples per batch\n",
    "    print(f\"Shape of X [N, C, H, W]: {X.shape}\")\n",
    "    # Y is now a tensor of size N, which represents the labels associated\n",
    "    # with each example\n",
    "    print(f\"Shape of y: {y.shape} {y.dtype}\")\n",
    "    break"
   ]
  },
  {
   "cell_type": "markdown",
   "id": "3d6b9da0",
   "metadata": {},
   "source": [
    "## Creating Models"
   ]
  },
  {
   "cell_type": "code",
   "execution_count": 3,
   "id": "94a08fbc",
   "metadata": {},
   "outputs": [
    {
     "name": "stdout",
     "output_type": "stream",
     "text": [
      "Using cpu device\n",
      "NeuralNetwork(\n",
      "  (flatten): Flatten(start_dim=1, end_dim=-1)\n",
      "  (linear_relu_stack): Sequential(\n",
      "    (0): Linear(in_features=784, out_features=512, bias=True)\n",
      "    (1): ReLU()\n",
      "    (2): Linear(in_features=512, out_features=512, bias=True)\n",
      "    (3): ReLU()\n",
      "    (4): Linear(in_features=512, out_features=10, bias=True)\n",
      "  )\n",
      ")\n"
     ]
    }
   ],
   "source": [
    "device = torch.accelerator.current_accelerator().type if torch.accelerator.is_available() else \"cpu\"\n",
    "print(f\"Using {device} device\")\n",
    "\n",
    "# Define model\n",
    "class NeuralNetwork(nn.Module):\n",
    "    def __init__(self):\n",
    "        super().__init__()\n",
    "        # Since the input is a 2D matrix, we have to flatten it into a 1D vector\n",
    "        # that we can then feed into the neural network\n",
    "        self.flatten = nn.Flatten()\n",
    "        self.linear_relu_stack = nn.Sequential(\n",
    "            nn.Linear(28*28, 512),\n",
    "            nn.ReLU(),\n",
    "            nn.Linear(512, 512),\n",
    "            nn.ReLU(),\n",
    "            nn.Linear(512, 10)\n",
    "        )\n",
    "\n",
    "    def forward(self, x):\n",
    "        # Since the input is a 2D matrix, we have to flatten it into a 1D vector\n",
    "        # that we can then feed into the neural network\n",
    "        x = self.flatten(x)\n",
    "        # In ML, logits is a another name for the raw (non-normalized) predictions\n",
    "        # that a classification model generates.\n",
    "        #  \n",
    "        # https://stackoverflow.com/questions/41455101/what-is-the-meaning-of-the-word-logits-in-tensorflow/52111173\n",
    "        # https://developers.google.com/machine-learning/glossary/#logits\n",
    "        logits = self.linear_relu_stack(x)  \n",
    "        return logits\n",
    "\n",
    "model = NeuralNetwork().to(device)\n",
    "print(model)"
   ]
  },
  {
   "cell_type": "code",
   "execution_count": 4,
   "id": "bf96eef1",
   "metadata": {},
   "outputs": [],
   "source": [
    "# Cross entropy loss (AKA Log-likelihood loss)\n",
    "# https://pytorch.org/docs/stable/generated/torch.nn.CrossEntropyLoss.html#torch.nn.CrossEntropyLoss\n",
    "# We use the loss function like\n",
    "#   loss_fn(logits, ground_truth)\n",
    "# This applies softmax to the logits (normalizing the logits), and then applies log-likelihood\n",
    "loss_fn = nn.CrossEntropyLoss()\n",
    "# Optimizer = How we calculate the gradient\n",
    "#   SGD = Stochastic gradient descent\n",
    "#       We estimate the gradient of the entire dataset by sampling \n",
    "#       a fixed number of points and identifying the gradient from the points.\n",
    "# lr = Learning rate\n",
    "# There are also different ways of calculating gradient to address osciliation issues, plataeus, etc.\n",
    "#   See Adagrad, RMSProp, etc.\n",
    "optimizer = torch.optim.SGD(model.parameters(), lr=1e-3)"
   ]
  },
  {
   "cell_type": "markdown",
   "id": "65033194",
   "metadata": {},
   "source": [
    "## Optimizing Model Parameters"
   ]
  },
  {
   "cell_type": "code",
   "execution_count": 5,
   "id": "3ad44a7e",
   "metadata": {},
   "outputs": [],
   "source": [
    "def train(dataloader: DataLoader, model: nn.Module, loss_fn: nn.Module, optimizer: torch.optim.Optimizer):\n",
    "    size = len(dataloader.dataset)\n",
    "    model.train() # Configure model for training, which tells dropout layers to perform dropout\n",
    "    # Iterate over the batches\n",
    "    #\n",
    "    # The dataloader loads a dataset and splits it into batches so we\n",
    "    # can perform stochastic gradient descent. It returns\n",
    "    # an iterator over the batches.\n",
    "    for batch, (X, y) in enumerate(dataloader):\n",
    "        # Move the X and Y tensors to the device we're running the model on\n",
    "        X, y = X.to(device), y.to(device)\n",
    "\n",
    "        # Compute prediction error\n",
    "        pred = model(X) # Returns a tensor that contains the predictions from our model\n",
    "        loss = loss_fn(pred, y)\n",
    "\n",
    "        # Perform backpropagation from the loss function\n",
    "        loss.backward()\n",
    "        optimizer.step() # Updates the parameters\n",
    "        # Reset the accumulated gradient after we're done calculating the gradients. \n",
    "        # Remember, in backpropagation we accrue gradient values, which is important \n",
    "        # for RNNs that repeatedly feed into itself.\n",
    "        optimizer.zero_grad() \n",
    "\n",
    "        # Print the loss every once in a while so we can track how our training is doing\n",
    "        if batch % 100 == 0:\n",
    "            # batch = current batch number\n",
    "            # len(X) = number of samples per batch (This is fixed across al batches)\n",
    "            # \n",
    "            # By multiplying batch size by total \n",
    "            _loss, current = loss.item(), (batch + 1) * len(X)\n",
    "            # NOTE: The loss is a scalar value (regular number)\n",
    "            # Scalars in pytorch are represented as tensors of size torch.size([]), which are zero dimensional\n",
    "            # \n",
    "            # .item() extracts the scalar value from the zero dimensional tensor\n",
    "            print(f\"loss: {loss.shape} {loss} _loss: {_loss:>7f}  [{current:>5d}/{size:>5d}]\")\n",
    "            if DEBUG:\n",
    "                print(f\"types: pred: {pred[:3]} y: {y[:3]} loss: {loss}\")\n",
    "\n",
    "# train(train_dataloader, model, loss_fn, optimizer)"
   ]
  },
  {
   "cell_type": "code",
   "execution_count": 6,
   "id": "03a3712b",
   "metadata": {},
   "outputs": [],
   "source": [
    "def test(dataloader: DataLoader, model: nn.Module, loss_fn: nn.Module):\n",
    "    size = len(dataloader.dataset)\n",
    "    num_batches = len(dataloader)\n",
    "    model.eval() # Sets module to evaluation mode, which is important for telling dropout layers to stop dropping out\n",
    "    test_loss, correct = 0, 0\n",
    "    with torch.no_grad(): # Disables autograd engine\n",
    "        for X, y in dataloader:\n",
    "            X, y = X.to(device), y.to(device)\n",
    "            pred: torch.Tensor = model(X)\n",
    "            test_loss += loss_fn(pred, y).item()\n",
    "            correct += (pred.argmax(1) == y).type(torch.float).sum().item()\n",
    "    test_loss /= num_batches # Calculate average test_loss across all batches\n",
    "    correct /= size # Calculate correct %\n",
    "    print(f\"Test error: \\n Accuracy: {(100 * correct):>0.1f}% Avg loss: {test_loss:>8f} \\n\")\n",
    "\n",
    "# test(test_dataloader, model, loss_fn)"
   ]
  },
  {
   "cell_type": "code",
   "execution_count": 7,
   "id": "30747481",
   "metadata": {},
   "outputs": [
    {
     "name": "stdout",
     "output_type": "stream",
     "text": [
      "Epoch 1\n",
      "-------------------------------\n",
      "loss: torch.Size([]) 2.3049347400665283 _loss: 2.304935  [   64/60000]\n",
      "loss: torch.Size([]) 2.2955398559570312 _loss: 2.295540  [ 6464/60000]\n",
      "loss: torch.Size([]) 2.2732653617858887 _loss: 2.273265  [12864/60000]\n",
      "loss: torch.Size([]) 2.269732713699341 _loss: 2.269733  [19264/60000]\n",
      "loss: torch.Size([]) 2.2397804260253906 _loss: 2.239780  [25664/60000]\n",
      "loss: torch.Size([]) 2.2150111198425293 _loss: 2.215011  [32064/60000]\n",
      "loss: torch.Size([]) 2.2194411754608154 _loss: 2.219441  [38464/60000]\n",
      "loss: torch.Size([]) 2.183429479598999 _loss: 2.183429  [44864/60000]\n",
      "loss: torch.Size([]) 2.1880457401275635 _loss: 2.188046  [51264/60000]\n",
      "loss: torch.Size([]) 2.1558046340942383 _loss: 2.155805  [57664/60000]\n",
      "Test error: \n",
      " Accuracy: 45.0% Avg loss: 2.149861 \n",
      "\n",
      "Epoch 2\n",
      "-------------------------------\n",
      "loss: torch.Size([]) 2.1584279537200928 _loss: 2.158428  [   64/60000]\n",
      "loss: torch.Size([]) 2.150747060775757 _loss: 2.150747  [ 6464/60000]\n",
      "loss: torch.Size([]) 2.0961079597473145 _loss: 2.096108  [12864/60000]\n",
      "loss: torch.Size([]) 2.1229381561279297 _loss: 2.122938  [19264/60000]\n",
      "loss: torch.Size([]) 2.0545055866241455 _loss: 2.054506  [25664/60000]\n",
      "loss: torch.Size([]) 2.001059055328369 _loss: 2.001059  [32064/60000]\n",
      "loss: torch.Size([]) 2.0292205810546875 _loss: 2.029221  [38464/60000]\n",
      "loss: torch.Size([]) 1.9520424604415894 _loss: 1.952042  [44864/60000]\n",
      "loss: torch.Size([]) 1.967475175857544 _loss: 1.967475  [51264/60000]\n",
      "loss: torch.Size([]) 1.8933546543121338 _loss: 1.893355  [57664/60000]\n",
      "Test error: \n",
      " Accuracy: 56.3% Avg loss: 1.892453 \n",
      "\n",
      "Epoch 3\n",
      "-------------------------------\n",
      "loss: torch.Size([]) 1.9216018915176392 _loss: 1.921602  [   64/60000]\n",
      "loss: torch.Size([]) 1.889087438583374 _loss: 1.889087  [ 6464/60000]\n",
      "loss: torch.Size([]) 1.7832298278808594 _loss: 1.783230  [12864/60000]\n",
      "loss: torch.Size([]) 1.835031270980835 _loss: 1.835031  [19264/60000]\n",
      "loss: torch.Size([]) 1.7050880193710327 _loss: 1.705088  [25664/60000]\n",
      "loss: torch.Size([]) 1.667091965675354 _loss: 1.667092  [32064/60000]\n",
      "loss: torch.Size([]) 1.6852415800094604 _loss: 1.685242  [38464/60000]\n",
      "loss: torch.Size([]) 1.5945336818695068 _loss: 1.594534  [44864/60000]\n",
      "loss: torch.Size([]) 1.617550253868103 _loss: 1.617550  [51264/60000]\n",
      "loss: torch.Size([]) 1.511660099029541 _loss: 1.511660  [57664/60000]\n",
      "Test error: \n",
      " Accuracy: 62.5% Avg loss: 1.533323 \n",
      "\n",
      "Epoch 4\n",
      "-------------------------------\n",
      "loss: torch.Size([]) 1.5956932306289673 _loss: 1.595693  [   64/60000]\n",
      "loss: torch.Size([]) 1.5560153722763062 _loss: 1.556015  [ 6464/60000]\n",
      "loss: torch.Size([]) 1.4178369045257568 _loss: 1.417837  [12864/60000]\n",
      "loss: torch.Size([]) 1.4952263832092285 _loss: 1.495226  [19264/60000]\n",
      "loss: torch.Size([]) 1.3573739528656006 _loss: 1.357374  [25664/60000]\n",
      "loss: torch.Size([]) 1.364436149597168 _loss: 1.364436  [32064/60000]\n",
      "loss: torch.Size([]) 1.372664451599121 _loss: 1.372664  [38464/60000]\n",
      "loss: torch.Size([]) 1.3060702085494995 _loss: 1.306070  [44864/60000]\n",
      "loss: torch.Size([]) 1.3349487781524658 _loss: 1.334949  [51264/60000]\n",
      "loss: torch.Size([]) 1.2353801727294922 _loss: 1.235380  [57664/60000]\n",
      "Test error: \n",
      " Accuracy: 63.4% Avg loss: 1.264844 \n",
      "\n",
      "Epoch 5\n",
      "-------------------------------\n",
      "loss: torch.Size([]) 1.3421374559402466 _loss: 1.342137  [   64/60000]\n",
      "loss: torch.Size([]) 1.3183255195617676 _loss: 1.318326  [ 6464/60000]\n",
      "loss: torch.Size([]) 1.160323143005371 _loss: 1.160323  [12864/60000]\n",
      "loss: torch.Size([]) 1.270394206047058 _loss: 1.270394  [19264/60000]\n",
      "loss: torch.Size([]) 1.1269813776016235 _loss: 1.126981  [25664/60000]\n",
      "loss: torch.Size([]) 1.161618947982788 _loss: 1.161619  [32064/60000]\n",
      "loss: torch.Size([]) 1.1800847053527832 _loss: 1.180085  [38464/60000]\n",
      "loss: torch.Size([]) 1.125082015991211 _loss: 1.125082  [44864/60000]\n",
      "loss: torch.Size([]) 1.1587318181991577 _loss: 1.158732  [51264/60000]\n",
      "loss: torch.Size([]) 1.0738680362701416 _loss: 1.073868  [57664/60000]\n",
      "Test error: \n",
      " Accuracy: 64.6% Avg loss: 1.097192 \n",
      "\n",
      "Done!\n"
     ]
    }
   ],
   "source": [
    "epochs = 5\n",
    "for t in range(epochs):\n",
    "    print(f\"Epoch {t+1}\\n-------------------------------\")\n",
    "    train(train_dataloader, model, loss_fn, optimizer)\n",
    "    test(test_dataloader, model, loss_fn)\n",
    "print(\"Done!\")"
   ]
  },
  {
   "cell_type": "markdown",
   "id": "21516856",
   "metadata": {},
   "source": [
    "## Saving + Loading Models"
   ]
  },
  {
   "cell_type": "code",
   "execution_count": 9,
   "id": "bf3d2cd7",
   "metadata": {},
   "outputs": [
    {
     "name": "stdout",
     "output_type": "stream",
     "text": [
      "Saved PyTorch Model State to model.pth\n"
     ]
    }
   ],
   "source": [
    "# Save our model's internal state (which is a python dictionary), into a file\n",
    "torch.save(model.state_dict(), \"model.pth\")\n",
    "print(\"Saved PyTorch Model State to model.pth\")"
   ]
  },
  {
   "cell_type": "code",
   "execution_count": 10,
   "id": "96d31049",
   "metadata": {},
   "outputs": [
    {
     "data": {
      "text/plain": [
       "<All keys matched successfully>"
      ]
     },
     "execution_count": 10,
     "metadata": {},
     "output_type": "execute_result"
    }
   ],
   "source": [
    "# Loading a model from a file\n",
    "model = NeuralNetwork().to(device)\n",
    "model.load_state_dict(torch.load(\"model.pth\", weights_only=True))"
   ]
  },
  {
   "cell_type": "code",
   "execution_count": 20,
   "id": "2f9a3674",
   "metadata": {},
   "outputs": [
    {
     "name": "stdout",
     "output_type": "stream",
     "text": [
      "Predicted: \"Ankle boot\", Actual: \"Ankle boot\"\n",
      "Predicted: \"Pullover\", Actual: \"Pullover\"\n",
      "Predicted: \"Trouser\", Actual: \"Trouser\"\n",
      "Predicted: \"Trouser\", Actual: \"Trouser\"\n",
      "Predicted: \"Pullover\", Actual: \"Shirt\"\n",
      "Predicted: \"Trouser\", Actual: \"Trouser\"\n",
      "Predicted: \"Coat\", Actual: \"Coat\"\n",
      "Predicted: \"Coat\", Actual: \"Shirt\"\n",
      "Predicted: \"Sneaker\", Actual: \"Sandal\"\n",
      "Predicted: \"Sneaker\", Actual: \"Sneaker\"\n"
     ]
    }
   ],
   "source": [
    "# Using our new model to make predictions\n",
    "classes = [\n",
    "    \"T-shirt/top\",\n",
    "    \"Trouser\",\n",
    "    \"Pullover\",\n",
    "    \"Dress\",\n",
    "    \"Coat\",\n",
    "    \"Sandal\",\n",
    "    \"Shirt\",\n",
    "    \"Sneaker\",\n",
    "    \"Bag\",\n",
    "    \"Ankle boot\",\n",
    "]\n",
    "\n",
    "model.eval()\n",
    "# Evaluate first 10 test datapoints\n",
    "for i in range(10):\n",
    "    x, y = test_data[i]\n",
    "    with torch.no_grad():\n",
    "        x = x.to(device)\n",
    "        pred = model(x)\n",
    "        predicted, actual = classes[pred[0].argmax(0)], classes[y]\n",
    "        print(f'Predicted: \"{predicted}\", Actual: \"{actual}\"')"
   ]
  }
 ],
 "metadata": {
  "kernelspec": {
   "display_name": "Python 3",
   "language": "python",
   "name": "python3"
  },
  "language_info": {
   "codemirror_mode": {
    "name": "ipython",
    "version": 3
   },
   "file_extension": ".py",
   "mimetype": "text/x-python",
   "name": "python",
   "nbconvert_exporter": "python",
   "pygments_lexer": "ipython3",
   "version": "3.13.2"
  }
 },
 "nbformat": 4,
 "nbformat_minor": 5
}
