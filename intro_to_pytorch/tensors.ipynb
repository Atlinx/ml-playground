{
 "cells": [
  {
   "cell_type": "markdown",
   "id": "01e0c78a",
   "metadata": {},
   "source": [
    "## Tensors\n",
    "https://pytorch.org/tutorials/beginner/basics/tensorqs_tutorial.html"
   ]
  },
  {
   "cell_type": "code",
   "execution_count": 2,
   "id": "1485bfc3",
   "metadata": {},
   "outputs": [],
   "source": [
    "import torch\n",
    "import numpy as np"
   ]
  },
  {
   "cell_type": "code",
   "execution_count": null,
   "id": "ffb77397",
   "metadata": {},
   "outputs": [
    {
     "data": {
      "text/plain": [
       "tensor([[1, 2],\n",
       "        [3, 4]])"
      ]
     },
     "metadata": {},
     "output_type": "display_data"
    }
   ],
   "source": [
    "# Create tensor from regular lists\n",
    "data = [[1, 2], [3, 4]]\n",
    "x_data = torch.tensor(data)\n",
    "display(x_data)"
   ]
  },
  {
   "cell_type": "code",
   "execution_count": 7,
   "id": "ec2a707b",
   "metadata": {},
   "outputs": [
    {
     "data": {
      "text/plain": [
       "array([[1, 2],\n",
       "       [3, 4]])"
      ]
     },
     "metadata": {},
     "output_type": "display_data"
    },
    {
     "data": {
      "text/plain": [
       "tensor([[1, 2],\n",
       "        [3, 4]])"
      ]
     },
     "metadata": {},
     "output_type": "display_data"
    }
   ],
   "source": [
    "# Create tensor from numpy arrays\n",
    "np_array = np.array(data)\n",
    "display(np_array)\n",
    "x_np = torch.from_numpy(np_array)\n",
    "display(x_np)"
   ]
  },
  {
   "cell_type": "code",
   "execution_count": 10,
   "id": "8e3fd14a",
   "metadata": {},
   "outputs": [
    {
     "name": "stdout",
     "output_type": "stream",
     "text": [
      "Ones Tensor:\n",
      " tensor([[1, 1],\n",
      "        [1, 1]])\n",
      "\n",
      "Random Tensor:\n",
      " tensor([[0.2394, 0.7395],\n",
      "        [0.5584, 0.5068]])\n",
      "\n"
     ]
    }
   ],
   "source": [
    "# Creating a tensor from another tensor (keep the same size)\n",
    "x_ones = torch.ones_like(x_data)\n",
    "print(f\"Ones Tensor:\\n {x_ones}\\n\")\n",
    "x_rand = torch.rand_like(x_data, dtype=torch.float) # Change data_type\n",
    "print(f\"Random Tensor:\\n {x_rand}\\n\")"
   ]
  },
  {
   "cell_type": "code",
   "execution_count": null,
   "id": "d6753b77",
   "metadata": {},
   "outputs": [
    {
     "name": "stdout",
     "output_type": "stream",
     "text": [
      "Random Tensor: \n",
      " tensor([[[1.0750e-01, 2.5355e-01, 5.6226e-02],\n",
      "         [5.4371e-01, 9.8798e-02, 5.4700e-01]],\n",
      "\n",
      "        [[4.7690e-01, 6.1404e-01, 1.9203e-01],\n",
      "         [3.4612e-01, 5.5572e-01, 5.0008e-04]]]) \n",
      "\n",
      "Ones Tensor: \n",
      " tensor([[[1., 1., 1.],\n",
      "         [1., 1., 1.]],\n",
      "\n",
      "        [[1., 1., 1.],\n",
      "         [1., 1., 1.]]]) \n",
      "\n",
      "Zeros Tensor: \n",
      " tensor([[[0., 0., 0.],\n",
      "         [0., 0., 0.]],\n",
      "\n",
      "        [[0., 0., 0.],\n",
      "         [0., 0., 0.]]])\n"
     ]
    }
   ],
   "source": [
    "# Tensors are defined by their shape\n",
    "# (2, 2) = 2 x 2 matrix\n",
    "# (2, 3, 2) = 2 x 3 x 2 matrix (3D matrix)\n",
    "shape = (2, 2)\n",
    "rand_tensor = torch.rand(shape)\n",
    "ones_tensor = torch.ones(shape)\n",
    "zeros_tensor = torch.zeros(shape)\n",
    "\n",
    "print(f\"Random Tensor: \\n {rand_tensor} \\n\")\n",
    "print(f\"Ones Tensor: \\n {ones_tensor} \\n\")\n",
    "print(f\"Zeros Tensor: \\n {zeros_tensor}\")"
   ]
  }
 ],
 "metadata": {
  "kernelspec": {
   "display_name": "Python 3",
   "language": "python",
   "name": "python3"
  },
  "language_info": {
   "codemirror_mode": {
    "name": "ipython",
    "version": 3
   },
   "file_extension": ".py",
   "mimetype": "text/x-python",
   "name": "python",
   "nbconvert_exporter": "python",
   "pygments_lexer": "ipython3",
   "version": "3.13.2"
  }
 },
 "nbformat": 4,
 "nbformat_minor": 5
}
